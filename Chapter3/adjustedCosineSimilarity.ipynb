{
 "cells": [
  {
   "cell_type": "code",
   "execution_count": 3,
   "metadata": {},
   "outputs": [],
   "source": [
    "import math"
   ]
  },
  {
   "cell_type": "code",
   "execution_count": 4,
   "metadata": {},
   "outputs": [],
   "source": [
    "userRating = {\"David\": {\"Imagine Dragons\": 3, \"Daft Punk\":5,\"Lorde\": 4, \"Fall Out Boy\": 1},\n",
    "\"Matt\": {\"Imagine Dragons\": 3, \"Daft Punk\": 4,\"Lorde\": 4, \"Fall Out Boy\": 1},\n",
    "\"Ben\": {\"Kacey Musgraves\": 4, \"Imagine Dragons\": 3,\"Lorde\": 3, \"Fall Out Boy\": 1},\n",
    "\"Chris\": {\"Kacey Musgraves\": 4, \"Imagine Dragons\": 4,\"Daft Punk\": 4, \"Lorde\": 3, \"Fall Out Boy\": 1}, \n",
    "\"Tori\": {\"Kacey Musgraves\": 5, \"Imagine Dragons\": 4,\"Daft Punk\": 5, \"Fall Out Boy\": 3}}"
   ]
  },
  {
   "cell_type": "code",
   "execution_count": 6,
   "metadata": {},
   "outputs": [],
   "source": [
    "def adjustedCosineSimilarity(band1, band2, userRating):\n",
    "    averages = {}\n",
    "    for (key, ratings) in userRating.items():\n",
    "        averages[key] = (float(sum(ratings.values())) / len(ratings.values()))\n",
    "\n",
    "    numerator = 0\n",
    "    denominator1 = 0\n",
    "    denominator2 = 0\n",
    "    for (user, ratings) in userRating.items():\n",
    "        if band1 in ratings and band2 in ratings:\n",
    "            avg = averages[user]\n",
    "            numerator += (ratings[band1] - avg) * (ratings[band2] - avg)\n",
    "            denominator1 += (ratings[band1] - avg) ** 2\n",
    "            denominator2 += (ratings[band2] - avg) ** 2\n",
    "    return numerator / (sqrt(denominator1)* sqrt(denominator2))        \n"
   ]
  }
 ],
 "metadata": {
  "kernelspec": {
   "display_name": "Python 3",
   "language": "python",
   "name": "python3"
  },
  "language_info": {
   "codemirror_mode": {
    "name": "ipython",
    "version": 3
   },
   "file_extension": ".py",
   "mimetype": "text/x-python",
   "name": "python",
   "nbconvert_exporter": "python",
   "pygments_lexer": "ipython3",
   "version": "3.11.5"
  }
 },
 "nbformat": 4,
 "nbformat_minor": 2
}
