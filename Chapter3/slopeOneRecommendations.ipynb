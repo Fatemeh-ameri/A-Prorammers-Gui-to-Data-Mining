{
 "cells": [
  {
   "cell_type": "code",
   "execution_count": 8,
   "metadata": {},
   "outputs": [],
   "source": [
    "class Recommender:\n",
    "\n",
    "    def __init__(self, data, k=1, metric='pearson', n=5):\n",
    "        \"\"\" initialize recommender\n",
    "        currently, if data is dictionary the recommender is initialized\n",
    "        to it.\n",
    "        For all other data types of data, no initialization occurs\n",
    "        k is the k value for k nearest neighbor\n",
    "        metric is which distance formula to use\n",
    "        n is the maximum number of recommendations to make\"\"\"\n",
    "        self.k = k\n",
    "        self.n = n\n",
    "        self.productid2name = {}\n",
    "\n",
    "        #if data is dictionary set recommender data to it\n",
    "\n",
    "        if type(data).__name__ == 'dict':\n",
    "            self.data = data\n",
    "\n",
    "        # The following two variables are used for Slope One\n",
    "        self.frequencies = {}\n",
    "        self.deviations = {}\n",
    "\n",
    "    def convertProductID2name(self, id):\n",
    "        \"\"\"Given product id number return product name\"\"\"\n",
    "        if id in self.productid2name:\n",
    "            return self.productid2name[id]\n",
    "        else:\n",
    "            return id    \n",
    "\n",
    "    def computeDeviations(self):\n",
    "        # for each person in the data:\n",
    "        # get their ratings\n",
    "        for ratings in self.data.values():\n",
    "            #for each item & rating in that set of ratings:\n",
    "            for (item, rating) in ratings.items():\n",
    "                self.frequencies.setdefault(item, {})\n",
    "                self.deviations.setdefault(item, {})\n",
    "                # for each item2 & rating2 in that set of ratings\n",
    "                for (item2, rating2) in ratings.items():\n",
    "                    if item != item2:\n",
    "                        # add the difference between the ratings to our computation\n",
    "                        self.frequencies[item].setdefault(item2, 0)\n",
    "                        self.deviations[item].setdefault(item2,0.0)\n",
    "                        self.frequencies[item][item2] += 1\n",
    "                        self.deviations[item][item2] += rating- rating2\n",
    "\n",
    "        for (item, ratings) in self.deviations.items():\n",
    "            for item2 in ratings:\n",
    "                ratings[item2] /= self.frequencies[item][item2]     \n",
    "\n",
    "    def slopeOneRecommendations(self, userRatings):\n",
    "        recommendations = {}\n",
    "        frequencies = {}\n",
    "        # for every item and rating in the user's recommendations\n",
    "        for (userItem, userRating) in userRatings.items():\n",
    "            # for every item in our dataset that the user didn't rate\n",
    "            for (diffItem, diffRatings) in self.deviations.items():\n",
    "                if diffItem not in userRatings and userItem in self.deviations[diffItem]:\n",
    "                    freq = self.frequencies[diffItem][userItem]\n",
    "                    recommendations.setdefault(diffItem, 0.0)\n",
    "                    frequencies.setdefault(diffItem, 0)\n",
    "                    # add to the running sum representing the numerator of the formula\n",
    "                    recommendations[diffItem] += (diffRatings[userItem] + userRating) * freq\n",
    "                    # keep a running sum of the frequency of diffitem\n",
    "                    frequencies[diffItem] += freq\n",
    "        recommendations = [(self.convertProductID2name(k),v / frequencies[k]) for (k, v) in recommendations.items()]\n",
    "        # finally sort and return\n",
    "        recommendations.sort(key=lambda artistTuple: artistTuple[1], reverse = True)\n",
    "        return recommendations "
   ]
  },
  {
   "cell_type": "code",
   "execution_count": 9,
   "metadata": {},
   "outputs": [],
   "source": [
    "users2 = {\"Amy\": {\"Taylor Swift\": 4, \"PSY\": 3, \"Whitney Houston\": 4},\n",
    "          \"Ben\": {\"Taylor Swift\": 5, \"PSY\": 2},\n",
    "          \"Clara\": {\"PSY\": 3.5, \"Whitney Houston\": 4},\n",
    "          \"Daisy\": {\"Taylor Swift\": 5, \"Whitney Houston\": 3}}"
   ]
  },
  {
   "cell_type": "code",
   "execution_count": 10,
   "metadata": {},
   "outputs": [],
   "source": [
    "r = Recommender(users2)"
   ]
  },
  {
   "cell_type": "code",
   "execution_count": 11,
   "metadata": {},
   "outputs": [],
   "source": [
    "r.computeDeviations()"
   ]
  },
  {
   "cell_type": "code",
   "execution_count": 12,
   "metadata": {},
   "outputs": [],
   "source": [
    "g = users2['Ben']"
   ]
  },
  {
   "cell_type": "code",
   "execution_count": 13,
   "metadata": {},
   "outputs": [
    {
     "data": {
      "text/plain": [
       "[('Whitney Houston', 3.375)]"
      ]
     },
     "execution_count": 13,
     "metadata": {},
     "output_type": "execute_result"
    }
   ],
   "source": [
    "r.slopeOneRecommendations(g)"
   ]
  },
  {
   "cell_type": "code",
   "execution_count": null,
   "metadata": {},
   "outputs": [],
   "source": []
  }
 ],
 "metadata": {
  "kernelspec": {
   "display_name": "Python 3",
   "language": "python",
   "name": "python3"
  },
  "language_info": {
   "codemirror_mode": {
    "name": "ipython",
    "version": 3
   },
   "file_extension": ".py",
   "mimetype": "text/x-python",
   "name": "python",
   "nbconvert_exporter": "python",
   "pygments_lexer": "ipython3",
   "version": "3.11.5"
  }
 },
 "nbformat": 4,
 "nbformat_minor": 2
}
