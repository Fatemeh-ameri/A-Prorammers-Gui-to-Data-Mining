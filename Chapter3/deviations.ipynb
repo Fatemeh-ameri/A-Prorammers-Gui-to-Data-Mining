{
 "cells": [
  {
   "cell_type": "code",
   "execution_count": 13,
   "metadata": {},
   "outputs": [],
   "source": [
    "class Recommender:\n",
    "\n",
    "    def __init__(self, data, k=1, metric='pearson', n=5):\n",
    "        \"\"\" initialize recommender\n",
    "        currently, if data is dictionary the recommender is initialized\n",
    "        to it.\n",
    "        For all other data types of data, no initialization occurs\n",
    "        k is the k value for k nearest neighbor\n",
    "        metric is which distance formula to use\n",
    "        n is the maximum number of recommendations to make\"\"\"\n",
    "        self.k = k\n",
    "        self.n = n\n",
    "\n",
    "        #if data is dictionary set recommender data to it\n",
    "\n",
    "        if type(data).__name__ == 'dict':\n",
    "            self.data = data\n",
    "\n",
    "        # The following two variables are used for Slope One\n",
    "        self.frequencies = {}\n",
    "        self.deviations = {} \n",
    "\n",
    "    def computeDeviations(self):\n",
    "        # for each person in the data:\n",
    "        # get their ratings\n",
    "        for ratings in self.data.values():\n",
    "            #for each item & rating in that set of ratings:\n",
    "            for (item, rating) in ratings.items():\n",
    "                self.frequencies.setdefault(item, {})\n",
    "                self.deviations.setdefault(item, {})\n",
    "                # for each item2 & rating2 in that set of ratings\n",
    "                for (item2, rating2) in ratings.items():\n",
    "                    if item != item2:\n",
    "                        # add the difference between the ratings to our computation\n",
    "                        self.frequencies[item].setdefault(item2, 0)\n",
    "                        self.deviations[item].setdefault(item2,0.0)\n",
    "                        self.frequencies[item][item2] += 1\n",
    "                        self.deviations[item][item2] += rating- rating2\n",
    "\n",
    "        for (item, ratings) in self.deviations.items():\n",
    "            for item2 in ratings:\n",
    "                ratings[item2] /= self.frequencies[item][item2]   "
   ]
  },
  {
   "cell_type": "code",
   "execution_count": 14,
   "metadata": {},
   "outputs": [],
   "source": [
    "users2 = {\"Amy\": {\"Taylor Swift\": 4, \"PSY\": 3, \"WhitneyHouston\": 4},\n",
    "\"Ben\": {\"Taylor Swift\": 5, \"PSY\": 2},\n",
    "\"Clara\": {\"PSY\": 3.5, \"Whitney Houston\": 4},\n",
    "\"Daisy\": {\"Taylor Swift\": 5, \"Whitney Houston\": 3}}"
   ]
  },
  {
   "cell_type": "code",
   "execution_count": 15,
   "metadata": {},
   "outputs": [],
   "source": [
    "r = Recommender(users2)"
   ]
  },
  {
   "cell_type": "code",
   "execution_count": 16,
   "metadata": {},
   "outputs": [],
   "source": [
    "r.computeDeviations()"
   ]
  },
  {
   "cell_type": "code",
   "execution_count": 19,
   "metadata": {},
   "outputs": [
    {
     "data": {
      "text/plain": [
       "{'Taylor Swift': {'PSY': 2.0, 'WhitneyHouston': 0.0, 'Whitney Houston': 2.0},\n",
       " 'PSY': {'Taylor Swift': -2.0,\n",
       "  'WhitneyHouston': -1.0,\n",
       "  'Whitney Houston': -0.5},\n",
       " 'WhitneyHouston': {'Taylor Swift': 0.0, 'PSY': 1.0},\n",
       " 'Whitney Houston': {'PSY': 0.5, 'Taylor Swift': -2.0}}"
      ]
     },
     "execution_count": 19,
     "metadata": {},
     "output_type": "execute_result"
    }
   ],
   "source": [
    "r.deviations"
   ]
  }
 ],
 "metadata": {
  "kernelspec": {
   "display_name": "Python 3",
   "language": "python",
   "name": "python3"
  },
  "language_info": {
   "codemirror_mode": {
    "name": "ipython",
    "version": 3
   },
   "file_extension": ".py",
   "mimetype": "text/x-python",
   "name": "python",
   "nbconvert_exporter": "python",
   "pygments_lexer": "ipython3",
   "version": "3.11.5"
  }
 },
 "nbformat": 4,
 "nbformat_minor": 2
}
