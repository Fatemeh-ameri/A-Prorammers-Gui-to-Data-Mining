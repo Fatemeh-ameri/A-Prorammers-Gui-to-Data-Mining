{
  "nbformat": 4,
  "nbformat_minor": 0,
  "metadata": {
    "colab": {
      "provenance": [],
      "authorship_tag": "ABX9TyO3dF0enOCyrZGqAW363pJF",
      "include_colab_link": true
    },
    "kernelspec": {
      "name": "python3",
      "display_name": "Python 3"
    },
    "language_info": {
      "name": "python"
    }
  },
  "cells": [
    {
      "cell_type": "markdown",
      "metadata": {
        "id": "view-in-github",
        "colab_type": "text"
      },
      "source": [
        "<a href=\"https://colab.research.google.com/github/Fatemeh-ameri/A-Prorammers-Gui-to-Data-Mining/blob/main/manhattan_and_euclidean_distance.ipynb\" target=\"_parent\"><img src=\"https://colab.research.google.com/assets/colab-badge.svg\" alt=\"Open In Colab\"/></a>"
      ]
    },
    {
      "cell_type": "code",
      "source": [
        "import math"
      ],
      "metadata": {
        "id": "TPZ_rISMF53Z"
      },
      "execution_count": 13,
      "outputs": []
    },
    {
      "cell_type": "code",
      "execution_count": 14,
      "metadata": {
        "id": "b9PeNM-fGNwG"
      },
      "outputs": [],
      "source": [
        "# Showing music groups and users rating them with a dictionary\n",
        "users = {\n",
        "'Angelica': {\n",
        "'Blues Traveler': 3.5,\n",
        "'Broken Bells': 2.0,\n",
        "'Norah Jones': 4.5,\n",
        "'Phoenix': 5.0,\n",
        "'Slightly Stoopid': 1.5,\n",
        "'The Strokes': 2.5,\n",
        "'Vampire Weekend': 2.0,\n",
        "},\n",
        "'Bill': {\n",
        "'Blues Traveler': 2.0,\n",
        " 'Broken Bells': 3.5,\n",
        "'Deadmau5': 4.0,\n",
        "'Phoenix': 2.0,\n",
        "'Slightly Stoopid': 3.5,\n",
        "'Vampire Weekend': 3.0,\n",
        "},\n",
        "'Chan': {\n",
        "'Blues Traveler': 5.0,\n",
        "'Broken Bells': 1.0,\n",
        "'Deadmau5': 1.0,\n",
        "'Norah Jones': 3.0,\n",
        "'Phoenix': 5,\n",
        "'Slightly Stoopid': 1.0,\n",
        "},\n",
        "'Dan': {\n",
        "'Blues Traveler': 3.0,\n",
        "'Broken Bells': 4.0,\n",
        "'Deadmau5': 4.5,\n",
        "'Phoenix': 3.0,\n",
        "'Slightly Stoopid': 4.5,\n",
        "'The Strokes': 4.0,\n",
        "'Vampire Weekend': 2.0,\n",
        "},\n",
        "'Hailey': {\n",
        "'Broken Bells': 4.0,\n",
        "'Deadmau5': 1.0,\n",
        "'Norah Jones': 4.0,\n",
        "'The Strokes': 4.0,\n",
        "'Vampire Weekend': 1.0,\n",
        "},\n",
        "'Jordyn': {\n",
        "'Broken Bells': 4.5,\n",
        "'Deadmau5': 4.0,\n",
        "'Norah Jones': 5.0,\n",
        "'Phoenix': 5.0,\n",
        "'Slightly Stoopid': 4.5,\n",
        "'The Strokes': 4.0,\n",
        "'Vampire Weekend': 4.0,\n",
        "},\n",
        "'Sam': {\n",
        "'Blues Traveler': 5.0,\n",
        "'Broken Bells': 2.0,\n",
        "'Norah Jones': 3.0,\n",
        "'Phoenix': 5.0,\n",
        "'Slightly Stoopid': 4.0,\n",
        "'The Strokes': 5.0,\n",
        "},\n",
        "'Veronica': {\n",
        "'Blues Traveler': 3.0,\n",
        "'Norah Jones': 5.0,\n",
        "'Phoenix': 4.0,\n",
        "'Slightly Stoopid': 2.5,\n",
        "'The Strokes': 3.0,\n",
        "},\n",
        "}"
      ]
    },
    {
      "cell_type": "code",
      "source": [
        "#manhattan distance\n",
        "def manhattan(rating1, rating2):\n",
        "  distance = 0\n",
        "  for key in rating1:\n",
        "    if key in rating2:\n",
        "      distance += abs(rating1[key] - rating2[key])\n",
        "  return distance\n"
      ],
      "metadata": {
        "id": "NmYAHEgGG-4A"
      },
      "execution_count": 15,
      "outputs": []
    },
    {
      "cell_type": "code",
      "source": [
        "manhattan(users['Angelica'], users['Bill'])"
      ],
      "metadata": {
        "colab": {
          "base_uri": "https://localhost:8080/"
        },
        "id": "nA845yoT14Kf",
        "outputId": "da68eb41-f222-46d3-d775-7d36f383017e"
      },
      "execution_count": 16,
      "outputs": [
        {
          "output_type": "execute_result",
          "data": {
            "text/plain": [
              "9.0"
            ]
          },
          "metadata": {},
          "execution_count": 16
        }
      ]
    },
    {
      "cell_type": "code",
      "source": [
        "manhattan(users['Hailey'], users['Jordyn'])"
      ],
      "metadata": {
        "colab": {
          "base_uri": "https://localhost:8080/"
        },
        "id": "XBSjQ9WV16ZJ",
        "outputId": "7da21839-f748-49f1-b7b7-c2c4ae305a67"
      },
      "execution_count": 17,
      "outputs": [
        {
          "output_type": "execute_result",
          "data": {
            "text/plain": [
              "7.5"
            ]
          },
          "metadata": {},
          "execution_count": 17
        }
      ]
    },
    {
      "cell_type": "code",
      "source": [
        "#euclidean distance\n",
        "def euclidean(rating1, rating2):\n",
        "  distance = 0\n",
        "  for key in rating1:\n",
        "    if key in rating2:\n",
        "      distance += pow(abs(rating1[key] - rating2[key]), 2)\n",
        "  return math.sqrt(distance)"
      ],
      "metadata": {
        "id": "v9NGXiE70m-i"
      },
      "execution_count": 27,
      "outputs": []
    },
    {
      "cell_type": "code",
      "source": [
        "euclidean(users['Hailey'], users['Veronica'])"
      ],
      "metadata": {
        "colab": {
          "base_uri": "https://localhost:8080/"
        },
        "id": "ttCzjlBaI8qC",
        "outputId": "9d0cfd42-8478-4b75-c21c-1edc68b0efbe"
      },
      "execution_count": 28,
      "outputs": [
        {
          "output_type": "execute_result",
          "data": {
            "text/plain": [
              "1.4142135623730951"
            ]
          },
          "metadata": {},
          "execution_count": 28
        }
      ]
    },
    {
      "cell_type": "code",
      "source": [
        "euclidean(users['Hailey'], users['Jordyn'])"
      ],
      "metadata": {
        "colab": {
          "base_uri": "https://localhost:8080/"
        },
        "id": "eO6xgY-NJKWT",
        "outputId": "a4c4f543-18a7-4b60-f86f-d593c639bf22"
      },
      "execution_count": 29,
      "outputs": [
        {
          "output_type": "execute_result",
          "data": {
            "text/plain": [
              "4.387482193696061"
            ]
          },
          "metadata": {},
          "execution_count": 29
        }
      ]
    },
    {
      "cell_type": "code",
      "source": [
        "def computeNearestNeighbor(username, users):\n",
        "  distances = []\n",
        "  for user in users:\n",
        "    if user != username:\n",
        "      distance = manhattan(users[user], users[username])\n",
        "      distances.append((distance, user))\n",
        "  #closest first\n",
        "  distances.sort()\n",
        "  return distances"
      ],
      "metadata": {
        "id": "mP3Qef4dJqcL"
      },
      "execution_count": 30,
      "outputs": []
    },
    {
      "cell_type": "code",
      "source": [
        "computeNearestNeighbor('Hailey', users)"
      ],
      "metadata": {
        "colab": {
          "base_uri": "https://localhost:8080/"
        },
        "id": "mVlvrDWhLKZk",
        "outputId": "f8281383-bae2-4e0b-8d0e-f0b8020bbe98"
      },
      "execution_count": 31,
      "outputs": [
        {
          "output_type": "execute_result",
          "data": {
            "text/plain": [
              "[(2.0, 'Veronica'),\n",
              " (4.0, 'Chan'),\n",
              " (4.0, 'Sam'),\n",
              " (4.5, 'Dan'),\n",
              " (5.0, 'Angelica'),\n",
              " (5.5, 'Bill'),\n",
              " (7.5, 'Jordyn')]"
            ]
          },
          "metadata": {},
          "execution_count": 31
        }
      ]
    },
    {
      "cell_type": "code",
      "source": [
        "computeNearestNeighbor('Veronica', users)"
      ],
      "metadata": {
        "colab": {
          "base_uri": "https://localhost:8080/"
        },
        "id": "XjuMLsdzLtys",
        "outputId": "54e59c34-4a46-49ed-8ba5-4e978c9d694a"
      },
      "execution_count": 32,
      "outputs": [
        {
          "output_type": "execute_result",
          "data": {
            "text/plain": [
              "[(2.0, 'Hailey'),\n",
              " (3.5, 'Angelica'),\n",
              " (4.0, 'Bill'),\n",
              " (4.0, 'Dan'),\n",
              " (4.0, 'Jordyn'),\n",
              " (6.5, 'Chan'),\n",
              " (8.5, 'Sam')]"
            ]
          },
          "metadata": {},
          "execution_count": 32
        }
      ]
    },
    {
      "cell_type": "code",
      "source": [
        "def recommend(username, users):\n",
        "\n",
        "  #first find nearest nighbor\n",
        "  nearest = computeNearestNeighbor(username, users)[0][1]\n",
        "  recommendations = []\n",
        "\n",
        "  #find bands neighbor rated that user didn't\n",
        "  neighborRatings = users[nearest]\n",
        "  userRarings = users[username]\n",
        "  for artist in neighborRatings:\n",
        "    if not artist in userRarings:\n",
        "      recommendations.append((artist, neighborRatings[artist]))\n",
        "  return sorted(recommendations, key= lambda artistTuple: artistTuple[1], reverse= True)"
      ],
      "metadata": {
        "id": "Cu9oX3EvMFNr"
      },
      "execution_count": 35,
      "outputs": []
    },
    {
      "cell_type": "code",
      "source": [
        "recommend('Hailey', users)"
      ],
      "metadata": {
        "colab": {
          "base_uri": "https://localhost:8080/"
        },
        "id": "U3nA_ghbItO8",
        "outputId": "a6df2a71-dfc9-4f4b-9586-eaa9c62ceb6f"
      },
      "execution_count": 36,
      "outputs": [
        {
          "output_type": "execute_result",
          "data": {
            "text/plain": [
              "[('Phoenix', 4.0), ('Blues Traveler', 3.0), ('Slightly Stoopid', 2.5)]"
            ]
          },
          "metadata": {},
          "execution_count": 36
        }
      ]
    },
    {
      "cell_type": "code",
      "source": [
        "recommend('Chan', users)"
      ],
      "metadata": {
        "colab": {
          "base_uri": "https://localhost:8080/"
        },
        "id": "tM2Nzc4NK7f4",
        "outputId": "a69679aa-113e-4480-a4e4-51a1257ff5e1"
      },
      "execution_count": 37,
      "outputs": [
        {
          "output_type": "execute_result",
          "data": {
            "text/plain": [
              "[('The Strokes', 4.0), ('Vampire Weekend', 1.0)]"
            ]
          },
          "metadata": {},
          "execution_count": 37
        }
      ]
    },
    {
      "cell_type": "code",
      "source": [
        "recommend('Sam', users)"
      ],
      "metadata": {
        "colab": {
          "base_uri": "https://localhost:8080/"
        },
        "id": "wgPH70X4TYKl",
        "outputId": "b751cb37-8e4f-4a38-9271-7959468f946e"
      },
      "execution_count": 38,
      "outputs": [
        {
          "output_type": "execute_result",
          "data": {
            "text/plain": [
              "[('Deadmau5', 1.0)]"
            ]
          },
          "metadata": {},
          "execution_count": 38
        }
      ]
    },
    {
      "cell_type": "code",
      "source": [
        "recommend('Angelica', users)"
      ],
      "metadata": {
        "colab": {
          "base_uri": "https://localhost:8080/"
        },
        "id": "gafAaqK_TlhM",
        "outputId": "7301c895-9344-4a94-d678-e5c550837609"
      },
      "execution_count": 39,
      "outputs": [
        {
          "output_type": "execute_result",
          "data": {
            "text/plain": [
              "[]"
            ]
          },
          "metadata": {},
          "execution_count": 39
        }
      ]
    }
  ]
}